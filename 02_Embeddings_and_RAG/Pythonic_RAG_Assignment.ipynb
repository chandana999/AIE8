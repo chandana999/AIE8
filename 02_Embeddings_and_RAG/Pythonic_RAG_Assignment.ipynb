{
  "cells": [
    {
      "cell_type": "markdown",
      "metadata": {
        "id": "lElF3o5PR6ys"
      },
      "source": [
        "# Your First RAG Application\n",
        "\n",
        "In this notebook, we'll walk you through each of the components that are involved in a simple RAG application.\n",
        "\n",
        "We won't be leveraging any fancy tools, just the OpenAI Python SDK, Numpy, and some classic Python.\n",
        "\n",
        "> NOTE: This was done with Python 3.12.3.\n",
        "\n",
        "> NOTE: There might be [compatibility issues](https://github.com/wandb/wandb/issues/7683) if you're on NVIDIA driver >552.44 As an interim solution - you can rollback your drivers to the 552.44."
      ]
    },
    {
      "cell_type": "markdown",
      "metadata": {
        "id": "5CtcL8P8R6yt"
      },
      "source": [
        "## Table of Contents:\n",
        "\n",
        "- Task 1: Imports and Utilities\n",
        "- Task 2: Documents\n",
        "- Task 3: Embeddings and Vectors\n",
        "- Task 4: Prompts\n",
        "- Task 5: Retrieval Augmented Generation\n",
        "  - 🚧 Activity #1: Augment RAG"
      ]
    },
    {
      "cell_type": "markdown",
      "metadata": {
        "id": "1Dz6GYilR6yt"
      },
      "source": [
        "Let's look at a rather complicated looking visual representation of a basic RAG application.\n",
        "\n",
        "<img src=\"https://i.imgur.com/vD8b016.png\" />"
      ]
    },
    {
      "cell_type": "markdown",
      "metadata": {
        "id": "PjmC0KFtR6yt"
      },
      "source": [
        "## Task 1: Imports and Utility\n",
        "\n",
        "We're just doing some imports and enabling `async` to work within the Jupyter environment here, nothing too crazy!"
      ]
    },
    {
      "cell_type": "code",
      "execution_count": 1,
      "metadata": {
        "id": "Z1dyrG4hR6yt"
      },
      "outputs": [],
      "source": [
        "from aimakerspace.text_utils import TextFileLoader, CharacterTextSplitter\n",
        "from aimakerspace.vectordatabase import VectorDatabase\n",
        "import asyncio"
      ]
    },
    {
      "cell_type": "code",
      "execution_count": 2,
      "metadata": {
        "id": "9OrFZRnER6yt"
      },
      "outputs": [],
      "source": [
        "import nest_asyncio\n",
        "nest_asyncio.apply()"
      ]
    },
    {
      "cell_type": "markdown",
      "metadata": {
        "id": "M0jGnpQsR6yu"
      },
      "source": [
        "## Task 2: Documents\n",
        "\n",
        "We'll be concerning ourselves with this part of the flow in the following section:\n",
        "\n",
        "<img src=\"https://i.imgur.com/jTm9gjk.png\" />"
      ]
    },
    {
      "cell_type": "markdown",
      "metadata": {
        "id": "-SFPWvRUR6yu"
      },
      "source": [
        "### Loading Source Documents\n",
        "\n",
        "So, first things first, we need some documents to work with.\n",
        "\n",
        "While we could work directly with the `.txt` files (or whatever file-types you wanted to extend this to) we can instead do some batch processing of those documents at the beginning in order to store them in a more machine compatible format.\n",
        "\n",
        "In this case, we're going to parse our text file into a single document in memory.\n",
        "\n",
        "Let's look at the relevant bits of the `TextFileLoader` class:\n",
        "\n",
        "```python\n",
        "def load_file(self):\n",
        "        with open(self.path, \"r\", encoding=self.encoding) as f:\n",
        "            self.documents.append(f.read())\n",
        "```\n",
        "\n",
        "We're simply loading the document using the built in `open` method, and storing that output in our `self.documents` list.\n",
        "\n",
        "> NOTE: We're using blogs from PMarca (Marc Andreessen) as our sample data. This data is largely irrelevant as we want to focus on the mechanisms of RAG, which includes out data's shape and quality - but not specifically what the contents of the data are. \n"
      ]
    },
    {
      "cell_type": "code",
      "execution_count": 3,
      "metadata": {
        "colab": {
          "base_uri": "https://localhost:8080/"
        },
        "id": "Ia2sUEuGR6yu",
        "outputId": "84937ecc-c35f-4c4a-a4ab-9da72625954c"
      },
      "outputs": [
        {
          "data": {
            "text/plain": [
              "1"
            ]
          },
          "execution_count": 3,
          "metadata": {},
          "output_type": "execute_result"
        }
      ],
      "source": [
        "text_loader = TextFileLoader(\"data/PMarcaBlogs.txt\")\n",
        "documents = text_loader.load_documents()\n",
        "len(documents)"
      ]
    },
    {
      "cell_type": "code",
      "execution_count": 4,
      "metadata": {
        "colab": {
          "base_uri": "https://localhost:8080/"
        },
        "id": "bV-tj5WFR6yu",
        "outputId": "674eb315-1ff3-4597-bcf5-38ece0a812ac"
      },
      "outputs": [
        {
          "name": "stdout",
          "output_type": "stream",
          "text": [
            "\n",
            "The Pmarca Blog Archives\n",
            "(select posts from 2007-2009)\n",
            "Marc Andreessen\n",
            "copyright: Andreessen Horow\n"
          ]
        }
      ],
      "source": [
        "print(documents[0][:100])"
      ]
    },
    {
      "cell_type": "markdown",
      "metadata": {
        "id": "nHlTvCzYR6yu"
      },
      "source": [
        "### Splitting Text Into Chunks\n",
        "\n",
        "As we can see, there is one massive document.\n",
        "\n",
        "We'll want to chunk the document into smaller parts so it's easier to pass the most relevant snippets to the LLM.\n",
        "\n",
        "There is no fixed way to split/chunk documents - and you'll need to rely on some intuition as well as knowing your data *very* well in order to build the most robust system.\n",
        "\n",
        "For this toy example, we'll just split blindly on length.\n",
        "\n",
        ">There's an opportunity to clear up some terminology here, for this course we will be stick to the following:\n",
        ">\n",
        ">- \"source documents\" : The `.txt`, `.pdf`, `.html`, ..., files that make up the files and information we start with in its raw format\n",
        ">- \"document(s)\" : single (or more) text object(s)\n",
        ">- \"corpus\" : the combination of all of our documents"
      ]
    },
    {
      "cell_type": "markdown",
      "metadata": {
        "id": "2G6Voc0jR6yv"
      },
      "source": [
        "As you can imagine (though it's not specifically true in this toy example) the idea of splitting documents is to break them into managable sized chunks that retain the most relevant local context."
      ]
    },
    {
      "cell_type": "code",
      "execution_count": 5,
      "metadata": {
        "colab": {
          "base_uri": "https://localhost:8080/"
        },
        "id": "UMC4tsEmR6yv",
        "outputId": "08689c0b-57cd-4040-942a-8193e997f5cb"
      },
      "outputs": [
        {
          "data": {
            "text/plain": [
              "373"
            ]
          },
          "execution_count": 5,
          "metadata": {},
          "output_type": "execute_result"
        }
      ],
      "source": [
        "text_splitter = CharacterTextSplitter()\n",
        "split_documents = text_splitter.split_texts(documents)\n",
        "len(split_documents)"
      ]
    },
    {
      "cell_type": "markdown",
      "metadata": {
        "id": "W2wKT0WLR6yv"
      },
      "source": [
        "Let's take a look at some of the documents we've managed to split."
      ]
    },
    {
      "cell_type": "code",
      "execution_count": 6,
      "metadata": {
        "colab": {
          "base_uri": "https://localhost:8080/"
        },
        "id": "vcYMwWJoR6yv",
        "outputId": "20d69876-feca-4826-b4be-32915276987a"
      },
      "outputs": [
        {
          "data": {
            "text/plain": [
              "['\\ufeff\\nThe Pmarca Blog Archives\\n(select posts from 2007-2009)\\nMarc Andreessen\\ncopyright: Andreessen Horowitz\\ncover design: Jessica Hagy\\nproduced using: Pressbooks\\nContents\\nTHE PMARCA GUIDE TO STARTUPS\\nPart 1: Why not to do a startup 2\\nPart 2: When the VCs say \"no\" 10\\nPart 3: \"But I don\\'t know any VCs!\" 18\\nPart 4: The only thing that matters 25\\nPart 5: The Moby Dick theory of big companies 33\\nPart 6: How much funding is too little? Too much? 41\\nPart 7: Why a startup\\'s initial business plan doesn\\'t\\nmatter that much\\n49\\nTHE PMARCA GUIDE TO HIRING\\nPart 8: Hiring, managing, promoting, and Dring\\nexecutives\\n54\\nPart 9: How to hire a professional CEO 68\\nHow to hire the best people you\\'ve ever worked\\nwith\\n69\\nTHE PMARCA GUIDE TO BIG COMPANIES\\nPart 1: Turnaround! 82\\nPart 2: Retaining great people 86\\nTHE PMARCA GUIDE TO CAREER, PRODUCTIVITY,\\nAND SOME OTHER THINGS\\nIntroduction 97\\nPart 1: Opportunity 99\\nPart 2: Skills and education 107\\nPart 3: Where to go and why 120\\nThe Pmarca Guide to Personal Productivi']"
            ]
          },
          "execution_count": 6,
          "metadata": {},
          "output_type": "execute_result"
        }
      ],
      "source": [
        "split_documents[0:1]"
      ]
    },
    {
      "cell_type": "markdown",
      "metadata": {
        "id": "HOU-RFP_R6yv"
      },
      "source": [
        "## Task 3: Embeddings and Vectors\n",
        "\n",
        "Next, we have to convert our corpus into a \"machine readable\" format as we explored in the Embedding Primer notebook.\n",
        "\n",
        "Today, we're going to talk about the actual process of creating, and then storing, these embeddings, and how we can leverage that to intelligently add context to our queries."
      ]
    },
    {
      "cell_type": "markdown",
      "metadata": {},
      "source": [
        "### OpenAI API Key\n",
        "\n",
        "In order to access OpenAI's APIs, we'll need to provide our OpenAI API Key!\n",
        "\n",
        "You can work through the folder \"OpenAI API Key Setup\" for more information on this process if you don't already have an API Key!"
      ]
    },
    {
      "cell_type": "code",
      "execution_count": 7,
      "metadata": {},
      "outputs": [],
      "source": [
        "import os\n",
        "import openai\n",
        "from getpass import getpass\n",
        "\n",
        "openai.api_key = getpass(\"OpenAI API Key: \")\n",
        "os.environ[\"OPENAI_API_KEY\"] = openai.api_key"
      ]
    },
    {
      "cell_type": "markdown",
      "metadata": {},
      "source": [
        "### Vector Database\n",
        "\n",
        "Let's set up our vector database to hold all our documents and their embeddings!"
      ]
    },
    {
      "cell_type": "markdown",
      "metadata": {
        "id": "kDQrfAR1R6yv"
      },
      "source": [
        "While this is all baked into 1 call - we can look at some of the code that powers this process to get a better understanding:\n",
        "\n",
        "Let's look at our `VectorDatabase().__init__()`:\n",
        "\n",
        "```python\n",
        "def __init__(self, embedding_model: EmbeddingModel = None):\n",
        "        self.vectors = defaultdict(np.array)\n",
        "        self.embedding_model = embedding_model or EmbeddingModel()\n",
        "```\n",
        "\n",
        "As you can see - our vectors are merely stored as a dictionary of `np.array` objects.\n",
        "\n",
        "Secondly, our `VectorDatabase()` has a default `EmbeddingModel()` which is a wrapper for OpenAI's `text-embedding-3-small` model.\n",
        "\n",
        "> **Quick Info About `text-embedding-3-small`**:\n",
        "> - It has a context window of **8191** tokens\n",
        "> - It returns vectors with dimension **1536**"
      ]
    },
    {
      "cell_type": "markdown",
      "metadata": {
        "id": "L273pRdeR6yv"
      },
      "source": [
        "#### ❓Question #1:\n",
        "\n",
        "The default embedding dimension of `text-embedding-3-small` is 1536, as noted above. \n",
        "\n",
        "1. Is there any way to modify this dimension?\n",
        "2. What technique does OpenAI use to achieve this?\n",
        "\n",
        "> NOTE: Check out this [API documentation](https://platform.openai.com/docs/api-reference/embeddings/create) for the answer to question #1.1, and [this documentation](https://platform.openai.com/docs/guides/embeddings/use-cases) for an answer to question #1.2!\n"
      ]
    },
    {
      "cell_type": "markdown",
      "metadata": {},
      "source": [
        "##### ✅ Answer:\n",
        "1.\n",
        "Yes, the embedding dimension can be modified by using the dimensions parameter in the API call.\n",
        "- Supported Options:\n",
        "\n",
        "  **For text-embedding-3-small**: 512 or 1536 (default).\n",
        "\n",
        "  **For text-embedding-3-large**: 256, 1024, or 3072 (default).\n",
        "  \n",
        "This helps to balance cost and performance.\n",
        "\n",
        "####  Example with custom dimensions\n",
        "\n",
        "   ```python\n",
        "   # Example with custom dimensions\n",
        "   embedding_response = client.embeddings.create(\n",
        "       input=\"Your text here\",\n",
        "       model=\"text-embedding-3-small\"\n",
        "       dimensions=512  # small: 512 or 1536\n",
        "   )\n",
        "\n",
        "2. \n",
        "- OpenAI uses Matryoshka Representation Learning (MRL).  \n",
        "- In MRL, embeddings are trained so that the beginning of the vector already encodes meaningful semantic information.  \n",
        "- This means we can truncate the embedding to fewer dimensions (e.g., 512 instead of the default 1536 for `text-embedding-3-small`) and still retain most of the quality.  \n",
        "- Example: A 512-dim embedding from `text-embedding-3-small` can perform comparably to or even better than older models like `text-embedding-ada-002` with 1536 dimensions.  "
      ]
    },
    {
      "cell_type": "markdown",
      "metadata": {
        "id": "w5FZY7K3R6yv"
      },
      "source": [
        "We can call the `async_get_embeddings` method of our `EmbeddingModel()` on a list of `str` and receive a list of `float` back!\n",
        "\n",
        "```python\n",
        "async def async_get_embeddings(self, list_of_text: List[str]) -> List[List[float]]:\n",
        "        return await aget_embeddings(\n",
        "            list_of_text=list_of_text, engine=self.embeddings_model_name\n",
        "        )\n",
        "```"
      ]
    },
    {
      "cell_type": "markdown",
      "metadata": {
        "id": "cSct6X0aR6yv"
      },
      "source": [
        "We cast those to `np.array` when we build our `VectorDatabase()`:\n",
        "\n",
        "```python\n",
        "async def abuild_from_list(self, list_of_text: List[str]) -> \"VectorDatabase\":\n",
        "        embeddings = await self.embedding_model.async_get_embeddings(list_of_text)\n",
        "        for text, embedding in zip(list_of_text, embeddings):\n",
        "            self.insert(text, np.array(embedding))\n",
        "        return self\n",
        "```\n",
        "\n",
        "And that's all we need to do!"
      ]
    },
    {
      "cell_type": "code",
      "execution_count": 8,
      "metadata": {
        "id": "O4KoLbVDR6yv"
      },
      "outputs": [],
      "source": [
        "vector_db = VectorDatabase()\n",
        "vector_db = asyncio.run(vector_db.abuild_from_list(split_documents))"
      ]
    },
    {
      "cell_type": "markdown",
      "metadata": {
        "id": "SSZwaGvpR6yv"
      },
      "source": [
        "#### ❓Question #2:\n",
        "\n",
        "What are the benefits of using an `async` approach to collecting our embeddings?\n",
        "\n",
        "> NOTE: Determining the core difference between `async` and `sync` will be useful! If you get stuck - ask ChatGPT!"
      ]
    },
    {
      "cell_type": "markdown",
      "metadata": {},
      "source": [
        "##### Answer:\n",
        "\n",
        "##### Benefits of Using `async` for Collecting Embeddings\n",
        "\n",
        "Asynchronous programming with async/await provides significant performance advantages when collecting embeddings from APIs like OpenAI. Here's why it's essential for production applications:\n",
        "\n",
        "#####  1. Non-blocking Execution\n",
        "\n",
        "Asynchronous operations allow your program to continue executing other tasks while waiting for API responses, rather than blocking the entire execution thread.\n",
        "\n",
        "> Analogy: Instead of standing in line at a coffee shop waiting for each person to finish their order, you can place multiple orders simultaneously and collect them as they're ready.\n",
        "\n",
        "\n",
        "\n",
        "##### 2. Better Performance at Scale\n",
        "\n",
        "When you're dealing with **hundreds or thousands** of embedding requests, making them one at a time (sync) can take forever. `Async` lets you send many at once, This drastically speeding up the process.\n",
        "\n",
        "> **Example:**  \n",
        "> - `Sync`: 1,000 embeddings might take **3–5 minutes**  \n",
        "> - `Async`: Same task could take just **10–30 seconds**  \n",
        "\n",
        "\n",
        "##### 3. Improved Resource Utilization\n",
        "\n",
        "While an async call waits for a network response, your CPU and memory are free to do other things—like handling user input, processing previous results, or even making more API requests.\n",
        "\n",
        "> This helps your system stay efficient and avoid bottlenecks.\n",
        "\n",
        "##### 4. More Responsive Systems\n",
        "\n",
        "For applications with user interfaces, asynchronous operations prevent UI freezing and maintain responsiveness, ensuring a smooth user experience even during intensive embedding operations.\n",
        "\n",
        "\n",
        "##### 5. Reduced Latency with Batching\n",
        "\n",
        "Async lets you batch and send multiple requests in parallel, significantly cutting down the total time needed. You don't need to wait for one batch to finish before starting the next.\n",
        "\n",
        "> Combine this with OpenAI’s Batch API or parallelized client-side logic, and you’ll see serious speed improvements.\n",
        "\n",
        "\n",
        "#####  Summary\n",
        "\n",
        "Asynchronous embedding collection is not just a performance optimization—it's a fundamental requirement for scalable, production-ready applications. The performance gains, resource efficiency, and improved user experience make it an essential technique for any serious embedding workflow.\n",
        "\n",
        "\n"
      ]
    },
    {
      "cell_type": "markdown",
      "metadata": {
        "id": "nRBdIt-xR6yw"
      },
      "source": [
        "So, to review what we've done so far in natural language:\n",
        "\n",
        "1. We load source documents\n",
        "2. We split those source documents into smaller chunks (documents)\n",
        "3. We send each of those documents to the `text-embedding-3-small` OpenAI API endpoint\n",
        "4. We store each of the text representations with the vector representations as keys/values in a dictionary"
      ]
    },
    {
      "cell_type": "markdown",
      "metadata": {
        "id": "4-vWANZyR6yw"
      },
      "source": [
        "### Semantic Similarity\n",
        "\n",
        "The next step is to be able to query our `VectorDatabase()` with a `str` and have it return to us vectors and text that is most relevant from our corpus.\n",
        "\n",
        "We're going to use the following process to achieve this in our toy example:\n",
        "\n",
        "1. We need to embed our query with the same `EmbeddingModel()` as we used to construct our `VectorDatabase()`\n",
        "2. We loop through every vector in our `VectorDatabase()` and use a distance measure to compare how related they are\n",
        "3. We return a list of the top `k` closest vectors, with their text representations\n",
        "\n",
        "There's some very heavy optimization that can be done at each of these steps - but let's just focus on the basic pattern in this notebook.\n",
        "\n",
        "> We are using [cosine similarity](https://www.engati.com/glossary/cosine-similarity) as a distance metric in this example - but there are many many distance metrics you could use - like [these](https://flavien-vidal.medium.com/similarity-distances-for-natural-language-processing-16f63cd5ba55)\n",
        "\n",
        "> We are using a rather inefficient way of calculating relative distance between the query vector and all other vectors - there are more advanced approaches that are much more efficient, like [ANN](https://towardsdatascience.com/comprehensive-guide-to-approximate-nearest-neighbors-algorithms-8b94f057d6b6)"
      ]
    },
    {
      "cell_type": "code",
      "execution_count": 9,
      "metadata": {
        "colab": {
          "base_uri": "https://localhost:8080/"
        },
        "id": "76d96uavR6yw",
        "outputId": "bbfccc31-20a2-41c7-c14d-46554a43ed2d"
      },
      "outputs": [
        {
          "data": {
            "text/plain": [
              "[('ordingly.\\nSeventh, when hiring the executive to run your former specialty, be\\ncareful you don’t hire someone weak on purpose.\\nThis sounds silly, but you wouldn’t believe how oaen it happens.\\nThe CEO who used to be a product manager who has a weak\\nproduct management executive. The CEO who used to be in\\nsales who has a weak sales executive. The CEO who used to be\\nin marketing who has a weak marketing executive.\\nI call this the “Michael Eisner Memorial Weak Executive Problem” — aaer the CEO of Disney who had previously been a brilliant TV network executive. When he bought ABC at Disney, it\\npromptly fell to fourth place. His response? “If I had an extra\\ntwo days a week, I could turn around ABC myself.” Well, guess\\nwhat, he didn’t have an extra two days a week.\\nA CEO — or a startup founder — oaen has a hard time letting\\ngo of the function that brought him to the party. The result: you\\nhire someone weak into the executive role for that function so\\nthat you can continue to be “the man” — cons',\n",
              "  np.float64(0.6538563767462545)),\n",
              " ('m. They have areas where they are truly deXcient in judgment or skill set. That’s just life. Almost nobody is brilliant\\nat everything. When hiring and when Hring executives, you\\nmust therefore focus on strength rather than lack of weakness. Everybody has severe weaknesses even if you can’t see\\nthem yet. When managing, it’s oaen useful to micromanage and\\nto provide remedial training around these weaknesses. Doing so\\nmay make the diWerence between an executive succeeding or\\nfailing.\\nFor example, you might have a brilliant engineering executive\\nwho generates excellent team loyalty, has terriXc product judgment and makes the trains run on time. This same executive\\nmay be very poor at relating to the other functions in the company. She may generate far more than her share of cross-functional conYicts, cut herself oW from critical information, and\\nsigniXcantly impede your ability to sell and market eWectively.\\nYour alternatives are:\\n(a) Macro-manage and give her an annual or quarterly object',\n",
              "  np.float64(0.5036012174947994)),\n",
              " ('ed?\\nIn reality — as opposed to Marc’s warped view of reality — it will\\nbe extremely helpful for Marc [if he were actually the CEO,\\nwhich he is not] to meet with the new head of engineering daily\\nwhen she comes on board and review all of her thinking and\\ndecisions. This level of micromanagement will accelerate her\\ntraining and improve her long-term eWectiveness. It will make\\nher seem smarter to the rest of the organization which will build\\ncredibility and conXdence while she comes up to speed. Micromanaging new executives is generally a good idea for a limited\\nperiod of time.\\nHowever, that is not the only time that it makes sense to micro66 The Pmarca Blog Archives\\nmanage executives. It turns out that just about every executive\\nin the world has a few things that are seriously wrong with\\nthem. They have areas where they are truly deXcient in judgment or skill set. That’s just life. Almost nobody is brilliant\\nat everything. When hiring and when Hring executives, you\\nmust therefore focus o',\n",
              "  np.float64(0.4814102594977529))]"
            ]
          },
          "execution_count": 9,
          "metadata": {},
          "output_type": "execute_result"
        }
      ],
      "source": [
        "vector_db.search_by_text(\"What is the Michael Eisner Memorial Weak Executive Problem?\", k=3)"
      ]
    },
    {
      "cell_type": "markdown",
      "metadata": {
        "id": "TehsfIiKR6yw"
      },
      "source": [
        "## Task 4: Prompts\n",
        "\n",
        "In the following section, we'll be looking at the role of prompts - and how they help us to guide our application in the right direction.\n",
        "\n",
        "In this notebook, we're going to rely on the idea of \"zero-shot in-context learning\".\n",
        "\n",
        "This is a lot of words to say: \"We will ask it to perform our desired task in the prompt, and provide no examples.\""
      ]
    },
    {
      "cell_type": "markdown",
      "metadata": {
        "id": "yXpA0UveR6yw"
      },
      "source": [
        "### XYZRolePrompt\n",
        "\n",
        "Before we do that, let's stop and think a bit about how OpenAI's chat models work.\n",
        "\n",
        "We know they have roles - as is indicated in the following API [documentation](https://platform.openai.com/docs/api-reference/chat/create#chat/create-messages)\n",
        "\n",
        "There are three roles, and they function as follows (taken directly from [OpenAI](https://platform.openai.com/docs/guides/gpt/chat-completions-api)):\n",
        "\n",
        "- `{\"role\" : \"system\"}` : The system message helps set the behavior of the assistant. For example, you can modify the personality of the assistant or provide specific instructions about how it should behave throughout the conversation. However note that the system message is optional and the model’s behavior without a system message is likely to be similar to using a generic message such as \"You are a helpful assistant.\"\n",
        "- `{\"role\" : \"user\"}` : The user messages provide requests or comments for the assistant to respond to.\n",
        "- `{\"role\" : \"assistant\"}` : Assistant messages store previous assistant responses, but can also be written by you to give examples of desired behavior.\n",
        "\n",
        "The main idea is this:\n",
        "\n",
        "1. You start with a system message that outlines how the LLM should respond, what kind of behaviours you can expect from it, and more\n",
        "2. Then, you can provide a few examples in the form of \"assistant\"/\"user\" pairs\n",
        "3. Then, you prompt the model with the true \"user\" message.\n",
        "\n",
        "In this example, we'll be forgoing the 2nd step for simplicities sake."
      ]
    },
    {
      "cell_type": "markdown",
      "metadata": {
        "id": "gdZ2KWKSR6yw"
      },
      "source": [
        "#### Utility Functions\n",
        "\n",
        "You'll notice that we're using some utility functions from the `aimakerspace` module - let's take a peek at these and see what they're doing!"
      ]
    },
    {
      "cell_type": "markdown",
      "metadata": {
        "id": "GFbeJDDsR6yw"
      },
      "source": [
        "##### XYZRolePrompt"
      ]
    },
    {
      "cell_type": "markdown",
      "metadata": {
        "id": "5mojJSE3R6yw"
      },
      "source": [
        "Here we have our `system`, `user`, and `assistant` role prompts.\n",
        "\n",
        "Let's take a peek at what they look like:\n",
        "\n",
        "```python\n",
        "class BasePrompt:\n",
        "    def __init__(self, prompt):\n",
        "        \"\"\"\n",
        "        Initializes the BasePrompt object with a prompt template.\n",
        "\n",
        "        :param prompt: A string that can contain placeholders within curly braces\n",
        "        \"\"\"\n",
        "        self.prompt = prompt\n",
        "        self._pattern = re.compile(r\"\\{([^}]+)\\}\")\n",
        "\n",
        "    def format_prompt(self, **kwargs):\n",
        "        \"\"\"\n",
        "        Formats the prompt string using the keyword arguments provided.\n",
        "\n",
        "        :param kwargs: The values to substitute into the prompt string\n",
        "        :return: The formatted prompt string\n",
        "        \"\"\"\n",
        "        matches = self._pattern.findall(self.prompt)\n",
        "        return self.prompt.format(**{match: kwargs.get(match, \"\") for match in matches})\n",
        "\n",
        "    def get_input_variables(self):\n",
        "        \"\"\"\n",
        "        Gets the list of input variable names from the prompt string.\n",
        "\n",
        "        :return: List of input variable names\n",
        "        \"\"\"\n",
        "        return self._pattern.findall(self.prompt)\n",
        "```\n",
        "\n",
        "Then we have our `RolePrompt` which laser focuses us on the role pattern found in most API endpoints for LLMs.\n",
        "\n",
        "```python\n",
        "class RolePrompt(BasePrompt):\n",
        "    def __init__(self, prompt, role: str):\n",
        "        \"\"\"\n",
        "        Initializes the RolePrompt object with a prompt template and a role.\n",
        "\n",
        "        :param prompt: A string that can contain placeholders within curly braces\n",
        "        :param role: The role for the message ('system', 'user', or 'assistant')\n",
        "        \"\"\"\n",
        "        super().__init__(prompt)\n",
        "        self.role = role\n",
        "\n",
        "    def create_message(self, **kwargs):\n",
        "        \"\"\"\n",
        "        Creates a message dictionary with a role and a formatted message.\n",
        "\n",
        "        :param kwargs: The values to substitute into the prompt string\n",
        "        :return: Dictionary containing the role and the formatted message\n",
        "        \"\"\"\n",
        "        return {\"role\": self.role, \"content\": self.format_prompt(**kwargs)}\n",
        "```\n",
        "\n",
        "We'll look at how the `SystemRolePrompt` is constructed to get a better idea of how that extension works:\n",
        "\n",
        "```python\n",
        "class SystemRolePrompt(RolePrompt):\n",
        "    def __init__(self, prompt: str):\n",
        "        super().__init__(prompt, \"system\")\n",
        "```\n",
        "\n",
        "That pattern is repeated for our `UserRolePrompt` and our `AssistantRolePrompt` as well."
      ]
    },
    {
      "cell_type": "markdown",
      "metadata": {
        "id": "D361R6sMR6yw"
      },
      "source": [
        "##### ChatOpenAI"
      ]
    },
    {
      "cell_type": "markdown",
      "metadata": {
        "id": "HJVQ2Pm8R6yw"
      },
      "source": [
        "Next we have our model, which is converted to a format analagous to libraries like LangChain and LlamaIndex.\n",
        "\n",
        "Let's take a peek at how that is constructed:\n",
        "\n",
        "```python\n",
        "class ChatOpenAI:\n",
        "    def __init__(self, model_name: str = \"gpt-4.1-mini\"):\n",
        "        self.model_name = model_name\n",
        "        self.openai_api_key = os.getenv(\"OPENAI_API_KEY\")\n",
        "        if self.openai_api_key is None:\n",
        "            raise ValueError(\"OPENAI_API_KEY is not set\")\n",
        "\n",
        "    def run(self, messages, text_only: bool = True):\n",
        "        if not isinstance(messages, list):\n",
        "            raise ValueError(\"messages must be a list\")\n",
        "\n",
        "        openai.api_key = self.openai_api_key\n",
        "        response = openai.ChatCompletion.create(\n",
        "            model=self.model_name, messages=messages\n",
        "        )\n",
        "\n",
        "        if text_only:\n",
        "            return response.choices[0].message.content\n",
        "\n",
        "        return response\n",
        "```"
      ]
    },
    {
      "cell_type": "markdown",
      "metadata": {
        "id": "qCU7FfhIR6yw"
      },
      "source": [
        "#### ❓ Question #3:\n",
        "\n",
        "When calling the OpenAI API - are there any ways we can achieve more reproducible outputs?\n",
        "\n",
        "> NOTE: Check out [this section](https://platform.openai.com/docs/guides/text-generation/) of the OpenAI documentation for the answer!"
      ]
    },
    {
      "cell_type": "markdown",
      "metadata": {},
      "source": [
        "##### ✅ Answer: \n",
        "\n",
        "To get consistent results from the API, use these key settings:\n",
        "\n",
        "**Key Settings:**\n",
        "- `temperature: 0` - Eliminates randomness completely\n",
        "- `top_p: 1.0` -  Keeps default vocabulary range\n",
        "- Same prompts - Use identical prompts every time\n",
        "\n",
        "**Example Code:**\n",
        "```python\n",
        "response = client.chat.completions.create(\n",
        "    model=\"gpt-4\",\n",
        "    messages=messages,\n",
        "    temperature=0,\n",
        "    top_p=1.0\n",
        ")\n",
        "```\n"
      ]
    },
    {
      "cell_type": "markdown",
      "metadata": {
        "id": "c5wcjMLCR6yw"
      },
      "source": [
        "### Creating and Prompting OpenAI's `gpt-4.1-mini`!\n",
        "\n",
        "Let's tie all these together and use it to prompt `gpt-4.1-mini`!"
      ]
    },
    {
      "cell_type": "code",
      "execution_count": 10,
      "metadata": {
        "id": "WIfpIot7R6yw"
      },
      "outputs": [],
      "source": [
        "from aimakerspace.openai_utils.prompts import (\n",
        "    UserRolePrompt,\n",
        "    SystemRolePrompt,\n",
        "    AssistantRolePrompt,\n",
        ")\n",
        "\n",
        "from aimakerspace.openai_utils.chatmodel import ChatOpenAI\n",
        "\n",
        "chat_openai = ChatOpenAI()\n",
        "user_prompt_template = \"{content}\"\n",
        "user_role_prompt = UserRolePrompt(user_prompt_template)\n",
        "system_prompt_template = (\n",
        "    \"You are an expert in {expertise}, you always answer in a kind way.\"\n",
        ")\n",
        "system_role_prompt = SystemRolePrompt(system_prompt_template)\n",
        "\n",
        "messages = [\n",
        "    system_role_prompt.create_message(expertise=\"Python\"),\n",
        "    user_role_prompt.create_message(\n",
        "        content=\"What is the best way to write a loop?\"\n",
        "    ),\n",
        "]\n",
        "\n",
        "response = chat_openai.run(messages)"
      ]
    },
    {
      "cell_type": "code",
      "execution_count": 11,
      "metadata": {
        "colab": {
          "base_uri": "https://localhost:8080/"
        },
        "id": "dHo7lssNR6yw",
        "outputId": "1d3823fa-bb6b-45f6-ddba-b41686388324"
      },
      "outputs": [
        {
          "name": "stdout",
          "output_type": "stream",
          "text": [
            "Hello! The best way to write a loop in Python depends on what you're trying to achieve, but generally, Python's `for` loop is very clean and Pythonic for most cases where you want to iterate over a sequence (like a list, tuple, string, or range).\n",
            "\n",
            "Here’s a basic example of a `for` loop that prints numbers from 1 to 5:\n",
            "\n",
            "```python\n",
            "for i in range(1, 6):\n",
            "    print(i)\n",
            "```\n",
            "\n",
            "If you want to loop while a certain condition is true, a `while` loop is appropriate:\n",
            "\n",
            "```python\n",
            "count = 1\n",
            "while count <= 5:\n",
            "    print(count)\n",
            "    count += 1\n",
            "```\n",
            "\n",
            "In summary:\n",
            "- Use `for` loops when iterating over collections or ranges.\n",
            "- Use `while` loops when repeating until a condition changes.\n",
            "\n",
            "If you tell me more about your specific use case, I can help tailor the loop for you! 😊\n"
          ]
        }
      ],
      "source": [
        "print(response)"
      ]
    },
    {
      "cell_type": "markdown",
      "metadata": {
        "id": "r2nxxhB2R6yy"
      },
      "source": [
        "## Task 5: Retrieval Augmented Generation\n",
        "\n",
        "Now we can create a RAG prompt - which will help our system behave in a way that makes sense!\n",
        "\n",
        "There is much you could do here, many tweaks and improvements to be made!"
      ]
    },
    {
      "cell_type": "code",
      "execution_count": 12,
      "metadata": {
        "id": "D1hamzGaR6yy"
      },
      "outputs": [],
      "source": [
        "RAG_SYSTEM_TEMPLATE = \"\"\"You are a knowledgeable assistant that answers questions based strictly on provided context.\n",
        "\n",
        "Instructions:\n",
        "- Only answer questions using information from the provided context\n",
        "- If the context doesn't contain relevant information, respond with \"I don't know\"\n",
        "- Be accurate and cite specific parts of the context when possible\n",
        "- Keep responses {response_style} and {response_length}\n",
        "- Only use the provided context. Do not use external knowledge.\n",
        "- Only provide answers when you are confident the context supports your response.\"\"\"\n",
        "\n",
        "RAG_USER_TEMPLATE = \"\"\"Context Information:\n",
        "{context}\n",
        "\n",
        "Number of relevant sources found: {context_count}\n",
        "{similarity_scores}\n",
        "\n",
        "Question: {user_query}\n",
        "\n",
        "Please provide your answer based solely on the context above.\"\"\"\n",
        "\n",
        "rag_system_prompt = SystemRolePrompt(\n",
        "    RAG_SYSTEM_TEMPLATE,\n",
        "    strict=True,\n",
        "    defaults={\n",
        "        \"response_style\": \"concise\",\n",
        "        \"response_length\": \"brief\"\n",
        "    }\n",
        ")\n",
        "\n",
        "rag_user_prompt = UserRolePrompt(\n",
        "    RAG_USER_TEMPLATE,\n",
        "    strict=True,\n",
        "    defaults={\n",
        "        \"context_count\": \"\",\n",
        "        \"similarity_scores\": \"\"\n",
        "    }\n",
        ")"
      ]
    },
    {
      "cell_type": "markdown",
      "metadata": {},
      "source": [
        "Now we can create our pipeline!"
      ]
    },
    {
      "cell_type": "code",
      "execution_count": 13,
      "metadata": {},
      "outputs": [],
      "source": [
        "class RetrievalAugmentedQAPipeline:\n",
        "    def __init__(self, llm: ChatOpenAI, vector_db_retriever: VectorDatabase, \n",
        "                 response_style: str = \"detailed\", include_scores: bool = False) -> None:\n",
        "        self.llm = llm\n",
        "        self.vector_db_retriever = vector_db_retriever\n",
        "        self.response_style = response_style\n",
        "        self.include_scores = include_scores\n",
        "\n",
        "    def run_pipeline(self, user_query: str, k: int = 4, **system_kwargs) -> dict:\n",
        "        # Retrieve relevant contexts\n",
        "        context_list = self.vector_db_retriever.search_by_text(user_query, k=k)\n",
        "        \n",
        "        context_prompt = \"\"\n",
        "        similarity_scores = []\n",
        "        \n",
        "        for i, (context, score) in enumerate(context_list, 1):\n",
        "            context_prompt += f\"[Source {i}]: {context}\\n\\n\"\n",
        "            similarity_scores.append(f\"Source {i}: {score:.3f}\")\n",
        "        \n",
        "        # Create system message with parameters\n",
        "        system_params = {\n",
        "            \"response_style\": self.response_style,\n",
        "            \"response_length\": system_kwargs.get(\"response_length\", \"detailed\")\n",
        "        }\n",
        "        \n",
        "        formatted_system_prompt = rag_system_prompt.create_message(**system_params)\n",
        "        \n",
        "        user_params = {\n",
        "            \"user_query\": user_query,\n",
        "            \"context\": context_prompt.strip(),\n",
        "            \"context_count\": len(context_list),\n",
        "            \"similarity_scores\": f\"Relevance scores: {', '.join(similarity_scores)}\" if self.include_scores else \"\"\n",
        "        }\n",
        "        \n",
        "        formatted_user_prompt = rag_user_prompt.create_message(**user_params)\n",
        "\n",
        "        return {\n",
        "            \"response\": self.llm.run([formatted_system_prompt, formatted_user_prompt]), \n",
        "            \"context\": context_list,\n",
        "            \"context_count\": len(context_list),\n",
        "            \"similarity_scores\": similarity_scores if self.include_scores else None,\n",
        "            \"prompts_used\": {\n",
        "                \"system\": formatted_system_prompt,\n",
        "                \"user\": formatted_user_prompt\n",
        "            }\n",
        "        }"
      ]
    },
    {
      "cell_type": "code",
      "execution_count": 14,
      "metadata": {},
      "outputs": [
        {
          "name": "stdout",
          "output_type": "stream",
          "text": [
            "Response: The \"Michael Eisner Memorial Weak Executive Problem\" refers to a situation where a CEO or startup founder who previously excelled in a particular function (such as product management, sales, or marketing) hires a weak executive to run that same function. This often happens because the CEO has a hard time letting go of the function that brought them success, leading them to hire someone weak in that role so they can continue to maintain control and be \"the man.\" The term is named after Michael Eisner, the CEO of Disney who had been a brilliant TV network executive but struggled when he bought ABC and ABC fell to fourth place. Eisner responded by saying that if he had an extra two days a week, he could turn around ABC himself, but he did not have that time. This example illustrates the problem of hiring weaker executives in one's former area of expertise, which can harm the organization's performance. (Source 1)\n",
            "\n",
            "Context Count: 3\n",
            "Similarity Scores: ['Source 1: 0.658', 'Source 2: 0.509', 'Source 3: 0.479']\n"
          ]
        }
      ],
      "source": [
        "rag_pipeline = RetrievalAugmentedQAPipeline(\n",
        "    vector_db_retriever=vector_db,\n",
        "    llm=chat_openai,\n",
        "    response_style=\"detailed\",\n",
        "    include_scores=True\n",
        ")\n",
        "\n",
        "result = rag_pipeline.run_pipeline(\n",
        "    \"What is the 'Michael Eisner Memorial Weak Executive Problem'?\",\n",
        "    k=3,\n",
        "    response_length=\"comprehensive\", \n",
        "    include_warnings=True,\n",
        "    confidence_required=True\n",
        ")\n",
        "\n",
        "print(f\"Response: {result['response']}\")\n",
        "print(f\"\\nContext Count: {result['context_count']}\")\n",
        "print(f\"Similarity Scores: {result['similarity_scores']}\")"
      ]
    },
    {
      "cell_type": "markdown",
      "metadata": {
        "id": "zZIJI19uR6yz"
      },
      "source": [
        "#### ❓ Question #4:\n",
        "\n",
        "What prompting strategies could you use to make the LLM have a more thoughtful, detailed response?\n",
        "\n",
        "What is that strategy called?\n",
        "\n",
        "> NOTE: You can look through our [OpenAI Responses API](https://colab.research.google.com/drive/14SCfRnp39N7aoOx8ZxadWb0hAqk4lQdL?usp=sharing) notebook for an answer to this question if you get stuck!"
      ]
    },
    {
      "cell_type": "markdown",
      "metadata": {},
      "source": [
        "##### ✅ Answer:\n",
        "\n",
        "To help the language model generate more thoughtful and detailed answers, the following strategies are useful:\n",
        "\n",
        "##### 1. Chain-of-Thought Prompting\n",
        "Ask the model to explain its reasoning or \"think step by step.\"  \n",
        "This often results in more logical, complete responses.\n",
        "\n",
        "**Example:**  \n",
        "\"Let's think about this step by step.\"\n",
        "\n",
        "##### 2. Few-Shot Prompting\n",
        "Include a few example input-output pairs in your prompt.  \n",
        "This helps the model understand the format and expected behavior.\n",
        "\n",
        "**Example:**\n",
        "\n",
        "Q: What is the capital of France?  \n",
        "A: Paris\n",
        "\n",
        "Q: What is the capital of Japan?  \n",
        "A: Tokyo\n",
        "\n",
        "\n",
        "\n",
        "**Code Example:**\n",
        "\n",
        "```python\n",
        "messages = [\n",
        "    {\"role\": \"user\", \"content\": \"Q: What is the capital of France?\"},\n",
        "    {\"role\": \"assistant\", \"content\": \"A: Paris\"},\n",
        "    {\"role\": \"user\", \"content\": \"Q: What is the capital of Japan?\"},\n",
        "    {\"role\": \"assistant\", \"content\": \"A: Tokyo\"},\n",
        "    {\"role\": \"user\", \"content\": \"Q: What is the capital of Germany?\"},\n",
        "]\n",
        "\n",
        "response = client.chat.completions.create(\n",
        "    model=\"gpt-4\",\n",
        "    messages=messages,\n",
        "    temperature=0,\n",
        "    top_p=1.0\n",
        ")\n",
        "\n"
      ]
    },
    {
      "cell_type": "markdown",
      "metadata": {},
      "source": [
        "### 🏗️ Activity #1:\n",
        "\n",
        "Enhance your RAG application in some way! \n",
        "\n",
        "Suggestions are: \n",
        "\n",
        "- Allow it to work with PDF files\n",
        "- Implement a new distance metric\n",
        "- Add metadata support to the vector database\n",
        "- Use a different embedding model\n",
        "- Add the capability to ingest a YouTube link\n",
        "\n",
        "While these are suggestions, you should feel free to make whatever augmentations you desire! If you shared an idea during Session 1, think about features you might need to incorporate for your use case! \n",
        "\n",
        "When you're finished making the augments to your RAG application - vibe check it against the old one - see if you can \"feel the improvement\"!\n",
        "\n",
        "> NOTE: These additions might require you to work within the `aimakerspace` library - that's expected!\n",
        "\n",
        "> NOTE: If you're not sure where to start - ask Cursor (CMD/CTRL+L) to guide you through the changes!"
      ]
    },
    {
      "cell_type": "markdown",
      "metadata": {},
      "source": [
        "# Enhanced RAG Pipeline\n",
        "\n",
        "The **Enhanced RAG pipeline** has got the complete functionality with enhanced and improved code.  \n",
        "\n",
        "The **Enhanced RAG file** has the functionality with the following improvements:\n",
        "\n",
        "- **PDF Support with PyPDF2** – Enabled direct processing of PDF files.  \n",
        "- **Improved Error Handling** – Added robust handling for invalid files, missing inputs, and API errors.  \n",
        "- **Directory Support** – Allowed ingestion of multiple files (TXT, PDF, etc.) from a directory.  \n",
        "- **Async Execution** – Improved performance with asynchronous processing.  \n",
        "\n",
        "**Additional Enhancements:**\n",
        "- Added support for multiple distance metrics (cosine, dot product, Euclidean).  \n",
        "- Enabled YouTube transcript ingestion for expanding the knowledge base.  \n",
        "- Implemented metadata tracking (filename, timestamp, size).  \n",
        "- Added performance statistics for chunking, embedding success, and retrieval accuracy.  \n",
        "\n",
        "## How to Execute  \n",
        "\n",
        "Run the pipeline directly using:  \n",
        "```bash\n",
        "python enhanced_rag_pipeline.py\n"
      ]
    },
    {
      "cell_type": "markdown",
      "metadata": {},
      "source": [
        "## Output\n",
        "\n",
        "```bash\n",
        "Enhanced RAG Pipeline Demo\n",
        "==================================================\n",
        "WARNING: No valid OpenAI API key found.\n",
        "OpenAI API Key Setup\n",
        "You can get your API key from: https://platform.openai.com/api-keys\n",
        "The key will be hidden for security.\n",
        "Enter your OpenAI API key:\n",
        "SUCCESS: API key set successfully!\n",
        "\n",
        "Testing API key...\n",
        "SUCCESS: API key format appears valid\n",
        "\n",
        "Adding documents from data folder...\n",
        "SUCCESS: Found 2 file(s) in data folder: ['PMarcaBlogs.txt', 'test_doc.pdf']\n",
        "Processing: PMarcaBlogs.txt\n",
        "Loading documents from: data\\PMarcaBlogs.txt\n",
        "  SUCCESS: Loaded 1 document(s), created 745 chunks\n",
        "Processing: test_doc.pdf\n",
        "Loading documents from: data\\test_doc.pdf\n",
        "  SUCCESS: Loaded 1 document(s), created 998 chunks\n",
        "\n",
        "SUCCESS: Total loaded 2 documents with 1743 chunks\n",
        "\n",
        "Adding YouTube content for testing...\n",
        "Loading documents from 1 YouTube videos\n",
        "SUCCESS: Loaded 1 YouTube documents with 4 chunks\n",
        "📹 YouTube Video: https://www.youtube.com/watch?v=1c2skY6HsQY\n",
        "📝 Transcription Preview: Power BI tutorial covering DAX formulas (SUM, AVERAGE, CALCULATE), data import, relationships between tables, and dashboard creation...\n",
        "\n",
        "Testing structured RAG evaluation categories...\n",
        "\n",
        "============================================================\n",
        "🔍 TXT FILE QUESTIONS (PMarcaBlogs.txt)\n",
        "============================================================\n",
        "Pass Criteria: Answers must accurately reflect Marc Andreessen's specific advice from PMarcaBlogs.txt.\n",
        "------------------------------------------------------------\n",
        "\n",
        "🔍 Q1: What does Marc Andreessen say about the 'only thing that matters' for startups?\n",
        "--------------------------------------------------\n",
        "✅ COMPLETE ANSWER:\n",
        "Marc Andreessen emphasizes that the 'only thing that matters' for a new startup is achieving product/market fit. He suggests that successful startups often reach this critical milestone despite making various mistakes in other areas, such as their channel model, pipeline development strategy, marketing plan, and even internal dynamics like the CEO's relationship with a venture capitalist. The implication is that while other factors are important, the primary focus should be on ensuring that the product meets the needs of the market effectively.\n",
        "\n",
        "📊 Relevance scores: ['0.636', '0.601', '0.597']\n",
        "📁 Sources: ['PMarcaBlogs.txt_chunk_95 (txt)', 'PMarcaBlogs.txt_chunk_0 (txt)', 'PMarcaBlogs.txt_chunk_122 (txt)']\n",
        "\n",
        "==================================================\n",
        "\n",
        "🔍 Q2: What are Marc's views on hiring professional CEOs versus technical founders?\n",
        "--------------------------------------------------\n",
        "✅ COMPLETE ANSWER:\n",
        "Marc's view on hiring professional CEOs is quite negative; he suggests that if there is no one on the founding team capable of being a CEO, the best course of action is to sell the company immediately. This indicates a strong belief in the importance of having a capable leader from within the founding team rather than bringing in an external professional CEO.\n",
        "\n",
        "In contrast, the context does not provide specific details about Marc's views on technical founders, but it implies that he values the understanding and insight that founding team members have about their own company, its culture, and its processes. This suggests that he may prefer leaders who are deeply integrated into the company's vision and operations rather than those who are hired externally without that foundational knowledge.\n",
        "\n",
        "📊 Relevance scores: ['0.539', '0.537', '0.523']\n",
        "📁 Sources: ['PMarcaBlogs.txt_chunk_262 (txt)', 'PMarcaBlogs.txt_chunk_263 (txt)', 'PMarcaBlogs.txt_chunk_270 (txt)']\n",
        "\n",
        "==================================================\n",
        "\n",
        "============================================================\n",
        "🔍 PDF FILE QUESTIONS (test_doc.pdf)\n",
        "============================================================\n",
        "Pass Criteria: Answers must accurately reflect the specific research content from test_doc.pdf.\n",
        "------------------------------------------------------------\n",
        "\n",
        "🔍 Q1: What is the difference between frequentist and Bayesian approaches in machine learning according to this paper?\n",
        "--------------------------------------------------\n",
        "✅ COMPLETE ANSWER:\n",
        "According to the provided context, the difference between frequentist and Bayesian approaches in machine learning can be summarized as follows:\n",
        "\n",
        "1. **Assumptions about Distribution**:\n",
        "   - **Frequentist Approach**: Assumes the existence of a true distribution and aims to identify a specific value for the parameters of a probabilistic model. It does not incorporate prior information about the parameters.\n",
        "   - **Bayesian Approach**: Also assumes a true distribution but includes prior information about the parameter vector in its calculations. It uses methods like Maximum A Posteriori (MAP) estimation, which combines the likelihood of the training data with prior beliefs about the parameters.\n",
        "\n",
        "2. **Parameter Estimation**:\n",
        "   - **Frequentist Approach**: Utilizes Maximum Likelihood (ML) estimation to choose the parameter values that maximize the probability of the training data.\n",
        "   - **Bayesian Approach**: Incorporates prior distributions and updates these beliefs based on the observed data, leading to a posterior distribution of the parameters.       \n",
        "\n",
        "3. **Use of Hyperparameters**:\n",
        "   - The Bayesian approach, particularly when using MAP and Bayesian optimization tools, involves hyperparameters that need to be selected, which is noted as a drawback of these techniques.\n",
        "\n",
        "4. **Empirical Bayes**: This method straddles both approaches by assuming a prior distribution for the parameters but estimates the parameters of this prior from the data, thus incorporating elements of both frequentist and Bayesian methodologies.\n",
        "\n",
        "In summary, the key distinction lies in the incorporation of prior information and the methods used for parameter estimation, with frequentist approaches focusing solely on the data at hand and Bayesian approaches integrating prior beliefs into the analysis.\n",
        "\n",
        "📊 Relevance scores: ['0.638', '0.622', '0.576']\n",
        "📁 Sources: ['test_doc.pdf_chunk_82 (pdf)', 'test_doc.pdf_chunk_157 (pdf)', 'test_doc.pdf_chunk_187 (pdf)']\n",
        "\n",
        "==================================================\n",
        "\n",
        "🔍 Q2: How does the author explain supervised learning through linear regression in this introduction to ML for engineers?\n",
        "--------------------------------------------------\n",
        "✅ COMPLETE ANSWER:\n",
        "The author explains supervised learning through linear regression by using it as a recurring example to introduce key concepts in the field. The chapter begins with an overview of supervised learning, which involves training models on labeled data to make predictions. The author discusses important aspects such as:\n",
        "\n",
        "1. **Discriminative and Generative Models**: These are two types of models used in supervised learning. Discriminative models focus on modeling the decision boundary between classes, while generative models aim to model the distribution of each class.\n",
        "\n",
        "2. **Training Loss**: This refers to the measure of how well the model's predictions match the actual outcomes during training. The author likely discusses how to minimize this loss to improve model performance.\n",
        "\n",
        "3. **Generalization**: This concept involves the model's ability to perform well on unseen data, not just the data it was trained on. The author emphasizes the importance of generalization in creating effective machine learning models.\n",
        "\n",
        "4. **Overfitting**: This occurs when a model learns the training data too well, including its noise and outliers, leading to poor performance on new data. The author likely addresses strategies to avoid overfitting.\n",
        "\n",
        "The introduction also covers different learning approaches, specifically the frequentist, Bayesian, and Minimum Description Length (MDL) frameworks, providing a foundational understanding of how these methods relate to supervised learning. The treatment of MDL is noted to be introductory, indicating that the focus is primarily on the frequentist and Bayesian approaches in the context of linear regression. Overall, the author uses linear regression as a practical example to illustrate these fundamental concepts in supervised learning.\n",
        "\n",
        "📊 Relevance scores: ['0.620', '0.591', '0.561']\n",
        "📁 Sources: ['test_doc.pdf_chunk_1 (pdf)', 'test_doc.pdf_chunk_66 (pdf)', 'test_doc.pdf_chunk_65 (pdf)']\n",
        "\n",
        "==================================================\n",
        "\n",
        "============================================================\n",
        "🔍 YOUTUBE VIDEO QUESTIONS (Power BI Tutorial)\n",
        "============================================================\n",
        "Pass Criteria: Answers must accurately reflect the Power BI content from the YouTube video transcription.\n",
        "------------------------------------------------------------\n",
        "\n",
        "🔍 Q1: What are the three essential DAX formulas mentioned in this Power BI tutorial and what do they calculate?\n",
        "--------------------------------------------------\n",
        "DEBUG: Query 'What are the three essential DAX formulas mentioned in this Power BI tutorial and what do they calculate?' with filter 'youtube' returned 3 results\n",
        "DEBUG: Result 0: score=0.546, metadata={'filename': 'YouTube_Video_1c2skY6H', 'file_type': 'youtube', 'size': 1296, 'created_date': None, 'modified_date': None, 'page_count': 1, 'content_hash': '2f4a90a7112efd5a1f741a18c61cb85d', 'chunk_index': 1}\n",
        "DEBUG: Result 1: score=0.444, metadata={'filename': 'YouTube_Video_1c2skY6H', 'file_type': 'youtube', 'size': 1296, 'created_date': None, 'modified_date': None, 'page_count': 1, 'content_hash': '2f4a90a7112efd5a1f741a18c61cb85d', 'chunk_index': 0}\n",
        "DEBUG: Result 2: score=0.419, metadata={'filename': 'YouTube_Video_1c2skY6H', 'file_type': 'youtube', 'size': 1296, 'created_date': None, 'modified_date': None, 'page_count': 1, 'content_hash': '2f4a90a7112efd5a1f741a18c61cb85d', 'chunk_index': 2}\n",
        "✅ COMPLETE ANSWER:\n",
        "The three essential DAX formulas mentioned in the Power BI tutorial are:\n",
        "\n",
        "1. **SUM**: This formula is used for calculating totals. It adds up all the values in a specified column.\n",
        "\n",
        "2. **AVERAGE**: This formula calculates the mean values. It computes the average of the numbers in a specified column.\n",
        "\n",
        "3. **CALCULATE**: This formula is used for conditional calculations. It allows for the evaluation of an expression in a modified filter context, enabling more complex calculations based on specific conditions.\n",
        "\n",
        "📊 Relevance scores: ['0.546', '0.444', '0.419']\n",
        "📁 Sources: ['YouTube_Video_1c2skY6H_chunk_1 (youtube)', 'YouTube_Video_1c2skY6H_chunk_0 (youtube)', 'YouTube_Video_1c2skY6H_chunk_2 (youtube)']\n",
        "\n",
        "==================================================\n",
        "\n",
        "🔍 Q2: How does the tutorial explain creating relationships between customers and transactions tables using keys?\n",
        "--------------------------------------------------\n",
        "DEBUG: Query 'How does the tutorial explain creating relationships between customers and transactions tables using keys?' with filter 'youtube' returned 3 results\n",
        "DEBUG: Result 0: score=0.499, metadata={'filename': 'YouTube_Video_1c2skY6H', 'file_type': 'youtube', 'size': 1296, 'created_date': None, 'modified_date': None, 'page_count': 1, 'content_hash': '2f4a90a7112efd5a1f741a18c61cb85d', 'chunk_index': 2}\n",
        "DEBUG: Result 1: score=0.456, metadata={'filename': 'YouTube_Video_1c2skY6H', 'file_type': 'youtube', 'size': 1296, 'created_date': None, 'modified_date': None, 'page_count': 1, 'content_hash': '2f4a90a7112efd5a1f741a18c61cb85d', 'chunk_index': 1}\n",
        "DEBUG: Result 2: score=0.308, metadata={'filename': 'YouTube_Video_1c2skY6H', 'file_type': 'youtube', 'size': 1296, 'created_date': None, 'modified_date': None, 'page_count': 1, 'content_hash': '2f4a90a7112efd5a1f741a18c61cb85d', 'chunk_index': 0}\n",
        "✅ COMPLETE ANSWER:\n",
        "The tutorial explains creating relationships between the customers and transactions tables by using primary and foreign keys. It demonstrates how to establish these relationships, which are essential for linking the two tables effectively. This allows for more comprehensive data analysis, as it enables the integration of customer information with transaction data. However, the specific steps or methods for creating these relationships are not detailed in the provided context.\n",
        "\n",
        "📊 Relevance scores: ['0.499', '0.456', '0.308']\n",
        "📁 Sources: ['YouTube_Video_1c2skY6H_chunk_2 (youtube)', 'YouTube_Video_1c2skY6H_chunk_1 (youtube)', 'YouTube_Video_1c2skY6H_chunk_0 (youtube)']\n",
        "\n",
        "==================================================\n",
        "\n",
        "\n",
        "Enhanced RAG Pipeline Demo Complete!"
      ]
    }
  ],
  "metadata": {
    "colab": {
      "provenance": []
    },
    "kernelspec": {
      "display_name": "new_embed_env",
      "language": "python",
      "name": "python3"
    },
    "language_info": {
      "codemirror_mode": {
        "name": "ipython",
        "version": 3
      },
      "file_extension": ".py",
      "mimetype": "text/x-python",
      "name": "python",
      "nbconvert_exporter": "python",
      "pygments_lexer": "ipython3",
      "version": "3.12.7"
    },
    "orig_nbformat": 4
  },
  "nbformat": 4,
  "nbformat_minor": 0
}
